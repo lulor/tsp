{
 "cells": [
  {
   "cell_type": "markdown",
   "metadata": {},
   "source": [
    "Copyright **`(c)`** 2021 Giovanni Squillero `<squillero@polito.it>`  \n",
    "[`https://github.com/squillero/computational-intelligence`](https://github.com/squillero/computational-intelligence)  \n",
    "Free for personal or classroom use; see 'LICENCE.md' for details."
   ]
  },
  {
   "cell_type": "code",
   "execution_count": null,
   "metadata": {},
   "outputs": [],
   "source": [
    "from math import sqrt\n",
    "from typing import Any\n",
    "import numpy as np\n",
    "import networkx as nx\n",
    "import matplotlib.pyplot as plt"
   ]
  },
  {
   "cell_type": "code",
   "execution_count": null,
   "metadata": {},
   "outputs": [],
   "source": [
    "class Tsp:\n",
    "\n",
    "    def __init__(self, num_cities: int, seed: Any = None) -> None:\n",
    "        if seed is None:\n",
    "            seed = num_cities\n",
    "        self._num_cities = num_cities\n",
    "        self._graph = nx.DiGraph()\n",
    "        np.random.seed(seed)\n",
    "        for c in range(num_cities):\n",
    "            self._graph.add_node(c, pos=(np.random.random(), np.random.random()))\n",
    "\n",
    "    def distance(self, n1, n2) -> int:\n",
    "        pos1 = self._graph.nodes[n1]['pos']\n",
    "        pos2 = self._graph.nodes[n2]['pos']\n",
    "        return round(1_000_000 / self._num_cities * sqrt((pos1[0] - pos2[0])**2 +\n",
    "                                                         (pos1[1] - pos2[1])**2))\n",
    "\n",
    "    def evaluate_solution(self, solution: np.array) -> float:\n",
    "        total_cost = 0\n",
    "        tmp = solution.tolist() + [solution[0]]\n",
    "        for n1, n2 in (tmp[i:i + 2] for i in range(len(tmp) - 1)):\n",
    "            total_cost += self.distance(n1, n2)\n",
    "        return total_cost\n",
    "\n",
    "    def plot(self, path: np.array = None) -> None:\n",
    "        if path is not None:\n",
    "            self._graph.remove_edges_from(list(self._graph.edges))\n",
    "            tmp = path.tolist() + [path[0]]\n",
    "            for n1, n2 in (tmp[i:i + 2] for i in range(len(tmp) - 1)):\n",
    "                self._graph.add_edge(n1, n2)\n",
    "        plt.figure(figsize=(12, 5))\n",
    "        nx.draw(self._graph,\n",
    "                pos=nx.get_node_attributes(self._graph, 'pos'),\n",
    "                with_labels=True,\n",
    "                node_color='pink')\n",
    "        if path is not None:\n",
    "            plt.title(f\"Current path: {self.evaluate_solution(path):,}\")\n",
    "        plt.show()\n",
    "\n",
    "    @property\n",
    "    def graph(self) -> nx.digraph:\n",
    "        return self._graph"
   ]
  },
  {
   "cell_type": "code",
   "execution_count": null,
   "metadata": {},
   "outputs": [],
   "source": [
    "NUM_CITIES = 23\n",
    "\n",
    "problem = Tsp(NUM_CITIES)\n",
    "problem.plot()"
   ]
  },
  {
   "cell_type": "code",
   "execution_count": null,
   "metadata": {},
   "outputs": [],
   "source": [
    "def tweak(solution: np.array, *, pm: float = 1/NUM_CITIES) -> np.array:\n",
    "    new_solution = solution.copy()\n",
    "    p = None\n",
    "    while p is None or p < pm:\n",
    "        i1 = np.random.randint(0, NUM_CITIES)\n",
    "        i2 = np.random.randint(0, NUM_CITIES)\n",
    "        temp = new_solution[i1]\n",
    "        new_solution[i1] = new_solution[i2]\n",
    "        new_solution[i2] = temp\n",
    "        p = np.random.random()\n",
    "    return new_solution"
   ]
  },
  {
   "cell_type": "code",
   "execution_count": null,
   "metadata": {},
   "outputs": [],
   "source": [
    "def tweak_inversion(solution, pm: float = 1/NUM_CITIES):\n",
    "    '''\n",
    "    Inversion Mutation\n",
    "    '''\n",
    "    new_solution = solution.copy()\n",
    "    p = None\n",
    "    while p is None or p < pm:\n",
    "        i1 = np.random.randint(0, NUM_CITIES)\n",
    "        i2 = np.random.randint(0, NUM_CITIES)\n",
    "        new_solution[i1:i2] = np.flip(new_solution[i1:i2])\n",
    "        p = np.random.random()\n",
    "    return new_solution\n",
    "\n",
    "def tweak_inversion_single(solution):\n",
    "    new_solution = solution.copy()\n",
    "    i1 = np.random.randint(0, NUM_CITIES)\n",
    "    i2 = np.random.randint(0, NUM_CITIES)\n",
    "    new_solution[i1:i2] = np.flip(new_solution[i1:i2])\n",
    "    return new_solution"
   ]
  },
  {
   "cell_type": "code",
   "execution_count": null,
   "metadata": {},
   "outputs": [],
   "source": [
    "STEADY_STATE = 1000\n",
    "\n",
    "solution = np.array(range(NUM_CITIES))\n",
    "np.random.shuffle(solution)\n",
    "solution_cost = problem.evaluate_solution(solution)\n",
    "problem.plot(solution)\n",
    "\n",
    "history = [(0, solution_cost)]\n",
    "steady_state = 0\n",
    "step = 0\n",
    "while steady_state < STEADY_STATE:\n",
    "    step += 1\n",
    "    steady_state += 1\n",
    "    # new_solution = tweak(solution, pm=.5)\n",
    "    new_solution = tweak_inversion(solution, pm=.5)\n",
    "    # new_solution = tweak_inversion_single(solution)\n",
    "    new_solution_cost = problem.evaluate_solution(new_solution)\n",
    "    if new_solution_cost < solution_cost:\n",
    "        solution = new_solution\n",
    "        solution_cost = new_solution_cost\n",
    "        history.append((step, solution_cost))\n",
    "        steady_state = 0\n",
    "problem.plot(solution)"
   ]
  }
 ],
 "metadata": {
  "interpreter": {
   "hash": "4c8f2280666342ecc706d305b5b2d0ca0a8c6110c01065bdd27d64a16b4ea0de"
  },
  "kernelspec": {
   "display_name": "Python 3.9.7 64-bit ('ci': conda)",
   "name": "python3"
  },
  "language_info": {
   "codemirror_mode": {
    "name": "ipython",
    "version": 3
   },
   "file_extension": ".py",
   "mimetype": "text/x-python",
   "name": "python",
   "nbconvert_exporter": "python",
   "pygments_lexer": "ipython3",
   "version": "3.9.7"
  },
  "orig_nbformat": 4
 },
 "nbformat": 4,
 "nbformat_minor": 2
}
