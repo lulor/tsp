{
 "cells": [
  {
   "cell_type": "markdown",
   "metadata": {},
   "source": [
    "Copyright **`(c)`** 2021 Giovanni Squillero `<squillero@polito.it>`  \n",
    "[`https://github.com/squillero/computational-intelligence`](https://github.com/squillero/computational-intelligence)  \n",
    "Free for personal or classroom use; see 'LICENCE.md' for details."
   ]
  },
  {
   "cell_type": "code",
   "execution_count": null,
   "metadata": {},
   "outputs": [],
   "source": [
    "from math import sqrt\n",
    "from itertools import permutations\n",
    "from typing import Any\n",
    "import numpy as np\n",
    "import networkx as nx\n",
    "import matplotlib.pyplot as plt"
   ]
  },
  {
   "cell_type": "code",
   "execution_count": null,
   "metadata": {},
   "outputs": [],
   "source": [
    "class Tsp:\n",
    "\n",
    "    def __init__(self, num_cities: int, seed: Any = None) -> None:\n",
    "        if seed is None:\n",
    "            seed = num_cities\n",
    "        self._num_cities = num_cities\n",
    "        self._graph = nx.DiGraph()\n",
    "        np.random.seed(seed)\n",
    "        for c in range(num_cities):\n",
    "            self._graph.add_node(c, pos=(np.random.random(), np.random.random()))\n",
    "\n",
    "    def distance(self, n1, n2) -> int:\n",
    "        pos1 = self._graph.nodes[n1]['pos']\n",
    "        pos2 = self._graph.nodes[n2]['pos']\n",
    "        return round(1_000_000 / self._num_cities * sqrt((pos1[0] - pos2[0])**2 +\n",
    "                                                         (pos1[1] - pos2[1])**2))\n",
    "\n",
    "    def evaluate_solution(self, solution: np.array) -> float:\n",
    "        total_cost = 0\n",
    "        tmp = solution.tolist() + [solution[0]]\n",
    "        for n1, n2 in (tmp[i:i + 2] for i in range(len(tmp) - 1)):\n",
    "            total_cost += self.distance(n1, n2)\n",
    "        return total_cost\n",
    "\n",
    "    def plot(self, path: np.array = None) -> None:\n",
    "        if path is not None:\n",
    "            self._graph.remove_edges_from(list(self._graph.edges))\n",
    "            tmp = path.tolist() + [path[0]]\n",
    "            for n1, n2 in (tmp[i:i + 2] for i in range(len(tmp) - 1)):\n",
    "                self._graph.add_edge(n1, n2)\n",
    "        plt.figure(figsize=(12, 5))\n",
    "        nx.draw(self._graph,\n",
    "                pos=nx.get_node_attributes(self._graph, 'pos'),\n",
    "                with_labels=True,\n",
    "                node_color='pink')\n",
    "        if path is not None:\n",
    "            plt.title(f\"Current path: {self.evaluate_solution(path):,}\")\n",
    "        plt.show()\n",
    "\n",
    "    @property\n",
    "    def graph(self) -> nx.digraph:\n",
    "        return self._graph"
   ]
  },
  {
   "cell_type": "code",
   "execution_count": null,
   "metadata": {},
   "outputs": [],
   "source": [
    "NUM_CITIES = 42\n",
    "\n",
    "problem = Tsp(NUM_CITIES)\n",
    "problem.plot()"
   ]
  },
  {
   "cell_type": "markdown",
   "metadata": {},
   "source": [
    "## Simple Heuristic"
   ]
  },
  {
   "cell_type": "code",
   "execution_count": null,
   "metadata": {},
   "outputs": [],
   "source": [
    "G = nx.Graph()\n",
    "G.add_nodes_from(problem.graph.nodes())\n",
    "for n1, n2, _ in sorted([(n1, n2, problem.distance(n1, n2)) for n1, n2 in permutations(problem.graph.nodes(), 2)], key=lambda t: t[2]):\n",
    "    if len(G.edges(n1)) < 2 and len(G.edges(n2)) < 2:\n",
    "        G.add_edge(n1, n2)\n",
    "        try:\n",
    "            nx.find_cycle(G)\n",
    "            G.remove_edge(n1, n2)\n",
    "        except:\n",
    "            pass\n",
    "\n",
    "G.add_edge(*[n for n in G if len(G.edges(n))<2])\n",
    "solution = np.array([0] + [n[0] for n in nx.dfs_successors(G, 0).values()])\n",
    "problem.plot(solution)"
   ]
  },
  {
   "cell_type": "markdown",
   "metadata": {},
   "source": [
    "# My solutions\n",
    "\n",
    "The Hill Climber solution is more consistent and generally less computationally expensive, therefore it can be considered the better solution between the two presented"
   ]
  },
  {
   "cell_type": "markdown",
   "metadata": {},
   "source": [
    "## Random-Mutation (inversion) Hill Climber"
   ]
  },
  {
   "cell_type": "code",
   "execution_count": null,
   "metadata": {},
   "outputs": [],
   "source": [
    "# Same as the presented hill climber, but use inversion instead of swapping\n",
    "def tweak(solution: np.array, *, pm: float = .5) -> np.array:\n",
    "    new_solution = solution.copy()\n",
    "    p = None\n",
    "    while p is None or p < pm:\n",
    "        i1 = np.random.randint(0, NUM_CITIES)\n",
    "        i2 = np.random.randint(0, NUM_CITIES)\n",
    "        new_solution[i1:i2] = np.flip(new_solution[i1:i2])\n",
    "        p = np.random.random()\n",
    "    return new_solution"
   ]
  },
  {
   "cell_type": "code",
   "execution_count": null,
   "metadata": {},
   "outputs": [],
   "source": [
    "STEADY_STATE = 10000\n",
    "\n",
    "solution = np.array(range(NUM_CITIES))\n",
    "np.random.shuffle(solution)\n",
    "solution_cost = problem.evaluate_solution(solution)\n",
    "# problem.plot(solution)\n",
    "\n",
    "history = [(0, solution_cost)]\n",
    "steady_state = 0\n",
    "step = 0\n",
    "while steady_state < STEADY_STATE:\n",
    "    step += 1\n",
    "    steady_state += 1\n",
    "    new_solution = tweak(solution)\n",
    "    new_solution_cost = problem.evaluate_solution(new_solution)\n",
    "    if new_solution_cost < solution_cost:\n",
    "        solution = new_solution\n",
    "        solution_cost = new_solution_cost\n",
    "        history.append((step, solution_cost))\n",
    "        steady_state = 0\n",
    "problem.plot(solution)"
   ]
  },
  {
   "cell_type": "markdown",
   "metadata": {},
   "source": [
    "## GA"
   ]
  },
  {
   "cell_type": "code",
   "execution_count": null,
   "metadata": {},
   "outputs": [],
   "source": [
    "MAX_GENERATIONS = 1000\n",
    "POPULATION_SIZE = int(NUM_CITIES * 2 / 3)\n",
    "OFFSPRING_SIZE = NUM_CITIES\n",
    "MUTATION_PROBABILITY = .5\n",
    "TOURNAMENT_SIZE = 2\n",
    "\n",
    "def parent_selection(population):\n",
    "    tournament = []\n",
    "    for _ in range(TOURNAMENT_SIZE):\n",
    "        individual = population[np.random.randint(0, len(population))]\n",
    "        tournament.append(individual)\n",
    "    tournament.sort(key=lambda t: t[1])\n",
    "    return tournament[0][0]\n",
    "\n",
    "def mutate(parent):\n",
    "    offspring = parent.copy()\n",
    "    while np.random.random() < MUTATION_PROBABILITY:\n",
    "        i1 = np.random.randint(0, NUM_CITIES)\n",
    "        i2 = np.random.randint(0, NUM_CITIES)\n",
    "        offspring[i1:i2] = np.flip(offspring[i1:i2])\n",
    "    return offspring\n",
    "\n",
    "def xover(parent1, parent2):\n",
    "    offspring = np.full(parent1.size, -1)\n",
    "    i2 = np.random.randint(0, NUM_CITIES)\n",
    "    i1 = np.random.randint(0, NUM_CITIES)\n",
    "    if i1 > i2:\n",
    "        tmp = i1\n",
    "        i1 = i2\n",
    "        i2 = tmp\n",
    "    offspring[i1:i2] = parent1[i1:i2]\n",
    "    tmp = parent2[~np.in1d(parent2, offspring)]\n",
    "    offspring[:i1] = tmp[:i1]\n",
    "    offspring[i2:] = tmp[i1:]\n",
    "    return offspring"
   ]
  },
  {
   "cell_type": "code",
   "execution_count": null,
   "metadata": {},
   "outputs": [],
   "source": [
    "class Population:\n",
    "\n",
    "    def __init__(self, fitness_func):\n",
    "        self._population = []\n",
    "        self._fitness_func = fitness_func\n",
    "        for _ in range(POPULATION_SIZE):\n",
    "            individual = np.array(range(NUM_CITIES))\n",
    "            np.random.shuffle(individual)\n",
    "            self._population.append((individual, self._fitness_func(individual)))\n",
    "\n",
    "    def sort(self):\n",
    "        self._population.sort(key=lambda t: t[1])\n",
    "\n",
    "    def evolve(self):\n",
    "        self.sort()\n",
    "        # copy the fittest one with no mutations\n",
    "        new_population = [self._population[0]]\n",
    "        # copy the fittest half with random mutations \n",
    "        for individual, _ in self._population[1:POPULATION_SIZE//2]:\n",
    "            individual = mutate(individual)\n",
    "            new_population.append((individual, self._fitness_func(individual)))\n",
    "        children = []\n",
    "        for _ in range(OFFSPRING_SIZE):\n",
    "            parent1, parent2 = parent_selection(new_population), parent_selection(new_population)\n",
    "            offspring = xover(parent1, parent2)\n",
    "            children.append((offspring, self._fitness_func(offspring)))\n",
    "        self._population = new_population + children\n",
    "        self.sort()\n",
    "        self._population = self._population[:POPULATION_SIZE]\n",
    "\n",
    "    def get_best(self):\n",
    "        return self._population[0][0]"
   ]
  },
  {
   "cell_type": "code",
   "execution_count": null,
   "metadata": {},
   "outputs": [],
   "source": [
    "population = Population(problem.evaluate_solution)\n",
    "for _ in range(MAX_GENERATIONS):\n",
    "    population.evolve()\n",
    "solution = population.get_best()\n",
    "problem.plot(solution)"
   ]
  }
 ],
 "metadata": {
  "interpreter": {
   "hash": "4c8f2280666342ecc706d305b5b2d0ca0a8c6110c01065bdd27d64a16b4ea0de"
  },
  "kernelspec": {
   "display_name": "Python 3.9.7 64-bit ('ci': conda)",
   "name": "python3"
  },
  "language_info": {
   "codemirror_mode": {
    "name": "ipython",
    "version": 3
   },
   "file_extension": ".py",
   "mimetype": "text/x-python",
   "name": "python",
   "nbconvert_exporter": "python",
   "pygments_lexer": "ipython3",
   "version": "3.9.7"
  },
  "orig_nbformat": 4
 },
 "nbformat": 4,
 "nbformat_minor": 2
}
